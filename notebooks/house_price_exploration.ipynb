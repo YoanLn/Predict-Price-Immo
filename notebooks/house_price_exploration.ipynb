{
  "cells": [
    {
      "cell_type": "raw",
      "metadata": {
        "vscode": {
          "languageId": "raw"
        }
      },
      "source": [
        "# 🏠 Analyse Exploratoire des Prix des Maisons\n",
        "\n",
        "## Objectif\n",
        "Ce notebook présente une analyse exploratoire complète du dataset Kaggle House Prices. \n",
        "Nous allons découvrir les patterns, les corrélations et préparer les données pour la modélisation.\n",
        "\n",
        "## Plan d'analyse\n",
        "1. **Chargement et aperçu des données**\n",
        "2. **Analyse statistique descriptive**\n",
        "3. **Analyse des valeurs manquantes**\n",
        "4. **Analyse de la variable cible (SalePrice)**\n",
        "5. **Analyse des corrélations**\n",
        "6. **Visualisations exploratoires**\n",
        "7. **Insights et recommandations**\n"
      ]
    },
    {
      "cell_type": "code",
      "execution_count": null,
      "metadata": {},
      "outputs": [],
      "source": [
        "import pandas as pd\n",
        "import numpy as np\n",
        "import matplotlib.pyplot as plt\n",
        "import seaborn as sns\n",
        "from scipy import stats\n",
        "from scipy.stats import skew, kurtosis\n",
        "import warnings\n",
        "warnings.filterwarnings('ignore')\n",
        "\n",
        "plt.style.use('seaborn-v0_8')\n",
        "sns.set_palette(\"husl\")\n",
        "plt.rcParams['figure.figsize'] = (12, 8)\n",
        "plt.rcParams['font.size'] = 10\n",
        "\n",
        "print(\"Bibliothèques importées avec succès !\")\n"
      ]
    },
    {
      "cell_type": "raw",
      "metadata": {
        "vscode": {
          "languageId": "raw"
        }
      },
      "source": [
        "## 1. 📊 Chargement et aperçu des données\n"
      ]
    },
    {
      "cell_type": "code",
      "execution_count": null,
      "metadata": {},
      "outputs": [],
      "source": [
        "train_df = pd.read_csv('../data/train.csv')\n",
        "test_df = pd.read_csv('../data/test.csv')\n",
        "\n",
        "print(f\"Données d'entraînement: {train_df.shape}\")\n",
        "print(f\"Données de test: {test_df.shape}\")\n",
        "print(f\"Variable cible: SalePrice\")\n",
        "\n",
        "print(\"\\nAperçu des données d'entraînement:\")\n",
        "train_df.head()\n"
      ]
    },
    {
      "cell_type": "code",
      "execution_count": null,
      "metadata": {},
      "outputs": [],
      "source": [
        "print(\"Informations sur les données d'entraînement:\")\n",
        "print(train_df.info())\n",
        "\n",
        "print(\"\\nTypes de données:\")\n",
        "print(train_df.dtypes.value_counts())\n"
      ]
    },
    {
      "cell_type": "raw",
      "metadata": {
        "vscode": {
          "languageId": "raw"
        }
      },
      "source": [
        "## 2. Analyse statistique descriptive\n"
      ]
    },
    {
      "cell_type": "code",
      "execution_count": null,
      "metadata": {},
      "outputs": [],
      "source": [
        "numeric_features = train_df.select_dtypes(include=[np.number]).columns\n",
        "print(f\"Variables numériques: {len(numeric_features)}\")\n",
        "train_df[numeric_features].describe()\n"
      ]
    },
    {
      "cell_type": "code",
      "execution_count": null,
      "metadata": {},
      "outputs": [],
      "source": [
        "categorical_features = train_df.select_dtypes(include=['object']).columns\n",
        "print(f\"Variables catégorielles: {len(categorical_features)}\")\n",
        "\n",
        "for feature in categorical_features[:5]:\n",
        "    print(f\"\\n{feature}:\")\n",
        "    print(train_df[feature].value_counts().head())\n"
      ]
    },
    {
      "cell_type": "raw",
      "metadata": {
        "vscode": {
          "languageId": "raw"
        }
      },
      "source": [
        "## 3. Analyse des valeurs manquantes\n"
      ]
    },
    {
      "cell_type": "code",
      "execution_count": null,
      "metadata": {},
      "outputs": [],
      "source": [
        "def analyze_missing_values(df, name):\n",
        "    missing_data = pd.DataFrame({\n",
        "        'Total': df.isnull().sum(),\n",
        "        'Percent': df.isnull().sum() / len(df) * 100\n",
        "    })\n",
        "    missing_data = missing_data[missing_data['Total'] > 0].sort_values('Total', ascending=False)\n",
        "    \n",
        "    print(f\"\\nValeurs manquantes - {name}:\")\n",
        "    print(f\"Features avec valeurs manquantes: {len(missing_data)}\")\n",
        "    \n",
        "    if len(missing_data) > 0:\n",
        "        plt.figure(figsize=(12, 6))\n",
        "        plt.subplot(1, 2, 1)\n",
        "        missing_data['Total'].head(15).plot(kind='bar')\n",
        "        plt.title(f'Top 15 - Valeurs manquantes ({name})', fontsize=14)\n",
        "        plt.xticks(rotation=45)\n",
        "        \n",
        "        plt.subplot(1, 2, 2)\n",
        "        missing_data['Percent'].head(15).plot(kind='bar', color='orange')\n",
        "        plt.title(f'Top 15 - % Valeurs manquantes ({name})', fontsize=14)\n",
        "        plt.xticks(rotation=45)\n",
        "        \n",
        "        plt.tight_layout()\n",
        "        plt.show()\n",
        "    \n",
        "    return missing_data\n",
        "\n",
        "missing_train = analyze_missing_values(train_df, \"Train\")\n",
        "missing_test = analyze_missing_values(test_df, \"Test\")\n",
        "\n",
        "print(\"\\nTop 10 des features avec le plus de valeurs manquantes (Train):\")\n",
        "print(missing_train.head(10))\n"
      ]
    }
  ],
  "metadata": {
    "language_info": {
      "name": "python"
    }
  },
  "nbformat": 4,
  "nbformat_minor": 2
}
